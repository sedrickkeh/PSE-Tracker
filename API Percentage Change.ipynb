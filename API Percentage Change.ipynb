{
 "cells": [
  {
   "cell_type": "code",
   "execution_count": 1,
   "metadata": {},
   "outputs": [],
   "source": [
    "import requests\n",
    "import json"
   ]
  },
  {
   "cell_type": "code",
   "execution_count": 46,
   "metadata": {},
   "outputs": [
    {
     "name": "stdout",
     "output_type": "stream",
     "text": [
      "07-06-2018\n"
     ]
    }
   ],
   "source": [
    "import datetime, calendar\n",
    "\n",
    "latestWeekday = datetime.date.today()\n",
    "oneday = datetime.timedelta(days=1)\n",
    "\n",
    "while(latestWeekday.weekday() == calendar.SATURDAY or latestWeekday.weekday() == calendar.SUNDAY):\n",
    "    latestWeekday -= oneday\n",
    "\n",
    "latestWeekday = latestWeekday.strftime(\"%m-%d-%Y\")\n",
    "print(latestWeekday)\n"
   ]
  },
  {
   "cell_type": "code",
   "execution_count": 84,
   "metadata": {},
   "outputs": [
    {
     "name": "stdout",
     "output_type": "stream",
     "text": [
      "                             Name                      Category Symbol\n",
      "0                 2GO Group, Inc.       Transportation Services    2GO\n",
      "1             8990 Holdings, Inc.                      Property  HOUSE\n",
      "2           A Brown Company, Inc.                      Property    BRN\n",
      "3          A. Soriano Corporation                 Holding Firms    ANS\n",
      "4             ABS-CBN Corporation                         Media    ABS\n",
      "5    ABS-CBN Holdings Corporation                         Media   ABSP\n",
      "6        AG Finance, Incorporated  Other Financial Institutions    AGF\n",
      "7                 APC Group, Inc.                Other Services    APC\n",
      "8              ATN Holdings, Inc.                 Holding Firms    ATN\n",
      "9  AbaCore Capital Holdings, Inc.                 Holding Firms    ABA\n"
     ]
    }
   ],
   "source": [
    "import pandas as pd\n",
    "file = pd.read_csv(\"companies.csv\")\n",
    "print(file.head(n = 10))"
   ]
  },
  {
   "cell_type": "code",
   "execution_count": 85,
   "metadata": {},
   "outputs": [
    {
     "name": "stdout",
     "output_type": "stream",
     "text": [
      "['2GO' 'HOUSE' 'BRN' 'ANS' 'ABS' 'ABSP' 'AGF' 'APC' 'ATN' 'ABA' 'AEV' 'AP'\n",
      " 'AR' 'ACE' 'ANI' 'AGI' 'FOOD' 'ABC' 'ACR' 'ALHI' 'APO' 'APX' 'APL' 'ARA'\n",
      " 'ALCO' 'AAA' 'AUB' 'ABG' 'ATI' 'AT' 'AB' 'AC' 'ALI' 'BLFI' 'BDO' 'BH'\n",
      " 'BPI' 'BSC' 'BEL' 'BC' 'BCOR' 'BLOOM' 'BMM' 'BHI' 'BKR' 'COL' 'CAL' 'CEB'\n",
      " 'CHI' 'CLI' 'CPV' 'CHP' 'CAT' 'CEU' 'CNPF' 'CPM' 'CPG' 'CLC' 'CIP' 'CHIB'\n",
      " 'TECH' 'LAND' 'CDC' 'CSB' 'COAL' 'CIC' 'CA' 'COSCO' 'CROWN' 'CEI' 'CYBR'\n",
      " 'DNL' 'DFNN' 'DMC' 'DAVIN' 'DMPL' 'DWC' 'DIZ' 'DD' 'EEI' 'EAGLE' 'EW'\n",
      " 'ECP' 'EMP' 'ELI' 'EDC' 'EURO' 'EVER' 'EIBA' 'FJP' 'FEU' 'FDC' 'FLI'\n",
      " 'FFI' 'FYN' 'FAF' 'FGEN' 'FMETF' 'FPH' 'FPI' 'GEO' 'GMAP' 'GMA7' 'GTCAP'\n",
      " 'GSMI' 'FNI' 'GERI' 'PORT' 'GLO' 'HVN' 'GPH' 'GREEN' 'TUGS' 'HLCM' 'HI'\n",
      " 'I' 'EG' 'IPM' 'IRC' 'ISM' 'IMP' 'IMI' 'ICT' 'ION' 'IS' 'IDC' 'JGS' 'JAS'\n",
      " 'JFC' 'JOH' 'KPH' 'KEP' 'LBC' 'LMG' 'LTG' 'LR' 'LC' 'LFM' 'LIHC' 'LPZ'\n",
      " 'LSC' 'MED' 'MJIC' 'MRC' 'MHC' 'MVC' 'MACAY' 'MAC' 'MFIN' 'MBC' 'MB'\n",
      " 'MER' 'MJC' 'MA' 'MWC' 'MFC' 'MARC' 'MAXS' 'MWIDE' 'MEG' 'MRP' 'MAH'\n",
      " 'MGH' 'MPI' 'MRSGI' 'MBT' 'MG' 'NRCP' 'NXGEN' 'NI' 'NIKL' 'NOW' 'OM'\n",
      " 'ORE' 'OPM' 'PAL' 'PHEN' 'PCP' 'TEL' 'TFC' 'PXP' 'LOTO' 'PA' 'PMPC' 'PAX'\n",
      " 'PIP' 'PERC' 'PCOR' 'WEB' 'DNA' 'PHC' 'PX' 'PBC' 'PBB' 'PHES' 'H2O' 'PNB'\n",
      " 'PNC' 'PRC' 'RLT' 'PSB' 'SEVN' 'PTT' 'PTC' 'PHN' 'PPG' 'PNX' 'SHLPH'\n",
      " 'PHA' 'PLC' 'PRIM' 'POPI' 'PMT' 'PRMX' 'PPC' 'PGOLD' 'RFM' 'REG' 'RCB'\n",
      " 'RLC' 'RRHI' 'ROCK' 'ROX' 'RCI' 'SBS' 'SSP' 'SM' 'SMPH' 'SOC' 'SPC' 'SSI'\n",
      " 'STI' 'SMC' 'PF' 'SPM' 'SECB' 'SCC' 'PIZZA' 'SHNG' 'SGI' 'SPH' 'SLI'\n",
      " 'STR' 'STN' 'SLF' 'SUN' 'SRDC' 'SFI' 'SGP' 'T' 'PSE' 'OV' 'TFHI' 'TBGI'\n",
      " 'RWM' 'UNI' 'UBP' 'UPM' 'URC' 'UW' 'V' 'VMC' 'VLL' 'VITA' 'VVT' 'VUL'\n",
      " 'WPI' 'WIN' 'WLCON' 'X' 'ZHI' 'IPO']\n"
     ]
    }
   ],
   "source": [
    "import numpy as np\n",
    "array = np.array(file['Symbol'])\n",
    "print(array)"
   ]
  },
  {
   "cell_type": "code",
   "execution_count": null,
   "metadata": {},
   "outputs": [],
   "source": [
    "companies = []\n",
    "for i in array:\n",
    "    try:\n",
    "        response = requests.get('http://pseapi.com/api/Stock/%s/%s' %(i, latestWeekday))\n",
    "        x = json.loads(response.text)\n",
    "        percentage = 100 * (x['close'] - x['open']) / x['open']\n",
    "        companies.append([i, percentage])\n",
    "    except:\n",
    "        companies.append([i, \"error\"])\n",
    "        continue"
   ]
  }
 ],
 "metadata": {
  "kernelspec": {
   "display_name": "Python 3",
   "language": "python",
   "name": "python3"
  },
  "language_info": {
   "codemirror_mode": {
    "name": "ipython",
    "version": 3
   },
   "file_extension": ".py",
   "mimetype": "text/x-python",
   "name": "python",
   "nbconvert_exporter": "python",
   "pygments_lexer": "ipython3",
   "version": "3.6.4"
  }
 },
 "nbformat": 4,
 "nbformat_minor": 2
}
